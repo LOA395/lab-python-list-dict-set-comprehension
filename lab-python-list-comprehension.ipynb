{
 "cells": [
  {
   "cell_type": "markdown",
   "id": "25d7736c-ba17-4aff-b6bb-66eba20fbf4e",
   "metadata": {},
   "source": [
    "# Lab | List, Dict and Set Comprehension"
   ]
  },
  {
   "cell_type": "markdown",
   "id": "7dd3cbde-675a-4b81-92c3-f728846dbe06",
   "metadata": {},
   "source": [
    "## Exercise: Managing Customer Orders Optimized with Comprehension"
   ]
  },
  {
   "cell_type": "markdown",
   "id": "5d500160-2fb7-4777-b5e4-09d45ebaf328",
   "metadata": {},
   "source": [
    "In the previous exercise, you developed a program to manage customer orders and inventory. Now, let's take it a step further and incorporate comprehension into your code.\n",
    "\n",
    "Follow the steps below to complete the exercise:\n",
    "\n",
    "1. Review your code from the previous exercise and identify areas where you can apply comprehension to simplify and streamline your code. \n",
    "\n",
    "    - *Hint: Apply it to initialize inventory, updating the inventory and printing the updated inventory.*\n",
    "    \n",
    "    - For example, in initializing the inventory, we could have:\n",
    "    \n",
    "        ```python\n",
    "        def initialize_inventory(products):\n",
    "            inventory = {product: int(input(f\"Enter the quantity of {product}s available: \")) for product in products}\n",
    "            return inventory\n",
    "\n",
    "        ```\n",
    "<br>\n",
    "    \n",
    "    \n",
    "2. Modify the function get_customer_orders so it prompts the user to enter the number of customer orders and gathers the product names using a loop and user input. Use comprehension.\n",
    "\n",
    "3. Add a new function to calculate the total price of the customer order. For each product in customer_orders, prompt the user to enter the price of that product. Use comprehension to calculate the total price. Note: assume that the user can only have 1 unit of each product.\n",
    "\n",
    "4. Modify the update_inventory function to remove the product from the inventory if its quantity becomes zero after fulfilling the customer orders. Use comprehension to filter out the products with a quantity of zero from the inventory.\n",
    "\n",
    "5. Print the total price of the customer order.\n",
    "\n",
    "Your code should produce output similar to the following:\n",
    "\n",
    "```python\n",
    "Enter the quantity of t-shirts available:  5\n",
    "Enter the quantity of mugs available:  4\n",
    "Enter the quantity of hats available:  3\n",
    "Enter the quantity of books available:  2\n",
    "Enter the quantity of keychains available:  1\n",
    "Enter the number of customer orders:  2\n",
    "Enter the name of a product that a customer wants to order:  hat\n",
    "Enter the name of a product that a customer wants to order:  keychain\n",
    "\n",
    "Order Statistics:\n",
    "Total Products Ordered: 2\n",
    "Percentage of Unique Products Ordered: 40.0\n",
    "\n",
    "Updated Inventory:\n",
    "t-shirt: 5\n",
    "mug: 4\n",
    "hat: 2\n",
    "book: 2\n",
    "Enter the price of keychain:  5\n",
    "Enter the price of hat:  10\n",
    "Total Price: 15.0\n",
    "\n",
    "```\n"
   ]
  },
  {
   "cell_type": "code",
   "execution_count": 58,
   "id": "ff565b39",
   "metadata": {},
   "outputs": [],
   "source": [
    "def initialize_inventory(products):\n",
    "\n",
    "    inventory = {product: int(input(f\"Enter the quantity of {product}s available: \")) for product in products}\n",
    "    return inventory"
   ]
  },
  {
   "cell_type": "code",
   "execution_count": 59,
   "id": "27ec7a9f",
   "metadata": {},
   "outputs": [],
   "source": [
    "def get_customer_orders(products):\n",
    "    \n",
    "    number_of_orders = int(input(\"Enter the number of customer orders: \"))\n",
    "    customer_orders = {input(f\"Enter the name of product to order({', '.join(products)}): \").lower() for i in range(number_of_orders)} \n",
    "\n",
    "    return customer_orders"
   ]
  },
  {
   "cell_type": "code",
   "execution_count": 60,
   "id": "b1914a8e",
   "metadata": {},
   "outputs": [],
   "source": [
    "def calculate_order_statistics(customer_orders, products):\n",
    "    total_products_ordered = len(customer_orders)\n",
    "    percentage_ordered = (total_products_ordered / len(products))* 100\n",
    "    order_statistics = (total_products_ordered, percentage_ordered)\n",
    "\n",
    "    return order_statistics"
   ]
  },
  {
   "cell_type": "code",
   "execution_count": 61,
   "id": "3980ed15",
   "metadata": {},
   "outputs": [],
   "source": [
    "def print_order_statistics(order_statistics):\n",
    "    print(\"\\nOrder Statistics:\")\n",
    "    print(f\"Total Products Ordered: {order_statistics[0]}\")\n",
    "    print(f\"Percentage of Products Ordered: {order_statistics[1]:.2f}%\")"
   ]
  },
  {
   "cell_type": "code",
   "execution_count": 70,
   "id": "be925b41",
   "metadata": {},
   "outputs": [],
   "source": [
    "def calculate_total_price(customer_orders):\n",
    "\n",
    "    price = {product: float(input(f\"Enter the price of {product}: \")) for product in customer_orders}  \n",
    "    total_price = sum(price[product] for product in customer_orders)\n",
    "    return total_price"
   ]
  },
  {
   "cell_type": "code",
   "execution_count": 63,
   "id": "7b3e1e79",
   "metadata": {},
   "outputs": [],
   "source": [
    "def print_total_price(total_price):\n",
    "    print(f\"Total Price: {total_price}\")"
   ]
  },
  {
   "cell_type": "code",
   "execution_count": 71,
   "id": "5386f055",
   "metadata": {},
   "outputs": [],
   "source": [
    "def update_inventory(inventory, customer_orders):\n",
    "\n",
    "    # Update inventory\n",
    "    for order in customer_orders:\n",
    "        if order in inventory:\n",
    "            inventory[order] -= 1\n",
    "\n",
    "    # Identify out-of-stock items\n",
    "    out_off_stock = [product for product, count in inventory.items() if count <= 0]\n",
    "    \n",
    "    # Filter out out-of-stock items from the inventory\n",
    "    inventory = {product: count for product, count in inventory.items() if count > 0}\n",
    "    \n",
    "    return inventory, out_off_stock"
   ]
  },
  {
   "cell_type": "code",
   "execution_count": 72,
   "id": "76cbd3de",
   "metadata": {},
   "outputs": [],
   "source": [
    "def print_inventory(inventory):\n",
    "\n",
    "    print('Updated Inventory:\\n','\\n'.join([f\"{product}: {inventory[product]}\" for product in inventory]))\n"
   ]
  },
  {
   "cell_type": "code",
   "execution_count": 73,
   "id": "e12e7b01",
   "metadata": {},
   "outputs": [],
   "source": [
    "def print_out_of_stock(out_off_stock):\n",
    "    \n",
    "    print('Out of Stock:\\n','\\n' .join(out_off_stock))"
   ]
  },
  {
   "cell_type": "code",
   "execution_count": 74,
   "id": "0babe103",
   "metadata": {},
   "outputs": [],
   "source": [
    "def main():\n",
    "    \n",
    "    products = [\"t-shirt\", \"mug\", \"hat\", \"book\", \"keychain\"]\n",
    "\n",
    "    inventory = initialize_inventory(products)\n",
    "\n",
    "    customer_orders = get_customer_orders(products)\n",
    "\n",
    "    order_statistics = calculate_order_statistics(customer_orders, products)\n",
    "\n",
    "    print_order_statistics(order_statistics)\n",
    "\n",
    "    inventory, out_off_stock = update_inventory(inventory, customer_orders)\n",
    "\n",
    "    print_inventory(inventory)\n",
    "\n",
    "    print_out_of_stock(out_off_stock)\n",
    "\n",
    "    total_price = calculate_total_price(customer_orders)\n",
    "\n",
    "    print_total_price(total_price)\n"
   ]
  },
  {
   "cell_type": "code",
   "execution_count": 75,
   "id": "fca25db4",
   "metadata": {},
   "outputs": [
    {
     "name": "stdout",
     "output_type": "stream",
     "text": [
      "\n",
      "Order Statistics:\n",
      "Total Products Ordered: 3\n",
      "Percentage of Products Ordered: 60.00%\n",
      "Updated Inventory:\n",
      " t-shirt: 5\n",
      "book: 7\n",
      "keychain: 9\n",
      "Out of Stock:\n",
      " mug\n",
      "hat\n",
      "Total Price: 18.0\n"
     ]
    }
   ],
   "source": [
    "main()"
   ]
  },
  {
   "cell_type": "markdown",
   "id": "0df8b1a7",
   "metadata": {},
   "source": []
  }
 ],
 "metadata": {
  "kernelspec": {
   "display_name": "Python 3 (ipykernel)",
   "language": "python",
   "name": "python3"
  },
  "language_info": {
   "codemirror_mode": {
    "name": "ipython",
    "version": 3
   },
   "file_extension": ".py",
   "mimetype": "text/x-python",
   "name": "python",
   "nbconvert_exporter": "python",
   "pygments_lexer": "ipython3",
   "version": "3.9.13"
  }
 },
 "nbformat": 4,
 "nbformat_minor": 5
}
